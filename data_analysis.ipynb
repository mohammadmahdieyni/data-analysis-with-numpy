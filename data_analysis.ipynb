{
 "cells": [
  {
   "cell_type": "code",
   "execution_count": 1,
   "id": "75b4f6a9-3f3c-43aa-8ad0-32d8fbb07149",
   "metadata": {},
   "outputs": [],
   "source": [
    "#import numpy for make datas and analysis:"
   ]
  },
  {
   "cell_type": "code",
   "execution_count": 3,
   "id": "06d08cac-9d76-4335-8687-3c013b5574db",
   "metadata": {},
   "outputs": [],
   "source": [
    "import numpy as np"
   ]
  },
  {
   "cell_type": "code",
   "execution_count": 4,
   "id": "33c7f9f9-b03c-4100-ac39-5415592165bb",
   "metadata": {},
   "outputs": [],
   "source": [
    "# make an array that is grades of students in four lessons:"
   ]
  },
  {
   "cell_type": "code",
   "execution_count": 5,
   "id": "30f8de8b-7485-49fd-8954-414012b506bf",
   "metadata": {},
   "outputs": [],
   "source": [
    "grades = np.array([[20,18,17.25,16,12,15,20,19,17.5,14.75,9,11,4.5,6,13.75,16,9.75,18.5,14,20],\n",
    "                   [19,15,13,14,17,15,13,17,18,12,7.5,13,12,10,15,16,10,14,7,19.5],\n",
    "                   [17,16,14,18.5,14,12.5,9,15.5,19,6.5,9,14.25,13,13,14,17,11,17,10,18.25],\n",
    "                   [18.5,15,10,17,12.5,13,7,8,14,9,9,13.75,15,12.5,5,13,6,9,12,17.75]])"
   ]
  },
  {
   "cell_type": "code",
   "execution_count": 6,
   "id": "26eb7dbb-c15c-4c84-a5f7-1ee2c9dfd2fe",
   "metadata": {},
   "outputs": [],
   "source": [
    "#find mean grade in lessons:"
   ]
  },
  {
   "cell_type": "code",
   "execution_count": 7,
   "id": "84d12cb8-64f5-4232-b4a5-369e8d3d4b1d",
   "metadata": {},
   "outputs": [
    {
     "data": {
      "text/plain": [
       "array([14.6  , 13.85 , 13.925, 11.85 ])"
      ]
     },
     "execution_count": 7,
     "metadata": {},
     "output_type": "execute_result"
    }
   ],
   "source": [
    "averageGrades = np.mean(grades, axis=1)\n",
    "averageGrades"
   ]
  },
  {
   "cell_type": "code",
   "execution_count": 8,
   "id": "419a6dcf-dcf5-4b9a-8a3f-4027e52da30a",
   "metadata": {},
   "outputs": [],
   "source": [
    "#find min grades and max grades :"
   ]
  },
  {
   "cell_type": "code",
   "execution_count": 9,
   "id": "2d7b3bce-fffd-4c4d-bc34-f3d8ea391399",
   "metadata": {},
   "outputs": [
    {
     "name": "stdout",
     "output_type": "stream",
     "text": [
      "less score lesson (array([3], dtype=int64),) with 11.85\n"
     ]
    }
   ],
   "source": [
    "minGrandes = np.min(averageGrades)\n",
    "minLesson = np.where(averageGrades == minGrandes)\n",
    "print(\"less score lesson\",minLesson,\"with\",minGrandes)"
   ]
  },
  {
   "cell_type": "code",
   "execution_count": null,
   "id": "2b80b746-e352-4fbf-bd5f-149ec8772077",
   "metadata": {},
   "outputs": [],
   "source": [
    "#find high score in lesson:"
   ]
  },
  {
   "cell_type": "code",
   "execution_count": 11,
   "id": "219c8f82-e3f2-4776-9eba-4986202367ea",
   "metadata": {},
   "outputs": [
    {
     "name": "stdout",
     "output_type": "stream",
     "text": [
      "high score lesson is (array([0], dtype=int64),) with 14.6\n"
     ]
    }
   ],
   "source": [
    "maxGrades = np.max(averageGrades)\n",
    "maxLesson = np.where(averageGrades == maxGrades)\n",
    "print(\"high score lesson is\",maxLesson,\"with\",maxGrades)"
   ]
  },
  {
   "cell_type": "code",
   "execution_count": null,
   "id": "ef4cebd6-fa3c-45e6-b329-9a6b9191d480",
   "metadata": {},
   "outputs": [],
   "source": [
    "#find average of students scores:"
   ]
  },
  {
   "cell_type": "code",
   "execution_count": 11,
   "id": "b603b34d-5129-4c4e-bcec-e62517dada2c",
   "metadata": {},
   "outputs": [
    {
     "data": {
      "text/plain": [
       "array([18.625 , 16.    , 13.5625, 16.375 , 13.875 , 13.875 , 12.25  ,\n",
       "       14.875 , 17.125 , 10.5625,  8.625 , 13.    , 11.125 , 10.375 ,\n",
       "       11.9375, 15.5   ,  9.1875, 14.625 , 10.75  , 18.875 ])"
      ]
     },
     "execution_count": 11,
     "metadata": {},
     "output_type": "execute_result"
    }
   ],
   "source": [
    "averageStudents = np.mean(grades, axis=0)\n",
    "averageStudents"
   ]
  },
  {
   "cell_type": "code",
   "execution_count": null,
   "id": "63e01252-d81c-4a6f-9d1f-fd99f395f8ff",
   "metadata": {},
   "outputs": [],
   "source": [
    "#find best student:"
   ]
  },
  {
   "cell_type": "code",
   "execution_count": 32,
   "id": "82b3ce07-157b-4a5e-b143-aac6f57dd4f3",
   "metadata": {},
   "outputs": [
    {
     "name": "stdout",
     "output_type": "stream",
     "text": [
      "best student is (array([19], dtype=int64),) with 18.875\n"
     ]
    }
   ],
   "source": [
    "maxStudent = np.max(averageStudents)\n",
    "maxStudentll = np.where(averageStudents == maxStudent)\n",
    "print(\"best student is\", maxStudentll, \"with\", maxStudent)"
   ]
  },
  {
   "cell_type": "code",
   "execution_count": null,
   "id": "40c3dcc1-8162-48f6-931a-c153c0f99cff",
   "metadata": {},
   "outputs": [],
   "source": [
    "#find worst student:"
   ]
  },
  {
   "cell_type": "code",
   "execution_count": 33,
   "id": "94697c2a-5ab0-441d-853c-d7a1931d7cc2",
   "metadata": {},
   "outputs": [
    {
     "name": "stdout",
     "output_type": "stream",
     "text": [
      "worst student is (array([10], dtype=int64),) with 8.625\n"
     ]
    }
   ],
   "source": [
    "minStudent = np.min(averageStudents)\n",
    "minStudentll = np.where(averageStudents == minStudent)\n",
    "print(\"worst student is\", minStudentll, \"with\", minStudent)"
   ]
  },
  {
   "cell_type": "code",
   "execution_count": null,
   "id": "3be2b9ab-aef1-4b59-a322-ef698a549e5a",
   "metadata": {},
   "outputs": [],
   "source": [
    "#find worst score in all datas:"
   ]
  },
  {
   "cell_type": "code",
   "execution_count": 35,
   "id": "f6f70afc-b8c3-458a-b862-f3ea648cf040",
   "metadata": {},
   "outputs": [
    {
     "name": "stdout",
     "output_type": "stream",
     "text": [
      "4.5 worst score in lesson and for student (array([0], dtype=int64), array([12], dtype=int64))\n"
     ]
    }
   ],
   "source": [
    "mingrade = np.min(grades)\n",
    "mingradel = np.where(grades == mingrade)\n",
    "print(mingrade, \"worst score in lesson and for student\", mingradel)"
   ]
  },
  {
   "cell_type": "code",
   "execution_count": null,
   "id": "fdb559b6-6125-423d-b03d-e26ceccc963c",
   "metadata": {},
   "outputs": [],
   "source": [
    "#find best score in lesson:"
   ]
  },
  {
   "cell_type": "code",
   "execution_count": 36,
   "id": "10a45fad-fb15-4ff3-8c30-454c7b68aafb",
   "metadata": {},
   "outputs": [
    {
     "name": "stdout",
     "output_type": "stream",
     "text": [
      "20.0 best score in lesson and for student (array([0, 0, 0], dtype=int64), array([ 0,  6, 19], dtype=int64))\n"
     ]
    }
   ],
   "source": [
    "maxgrade = np.max(grades)\n",
    "maxgradel = np.where(grades == maxgrade)\n",
    "print(maxgrade, \"best score in lesson and for student\", maxgradel)"
   ]
  },
  {
   "cell_type": "code",
   "execution_count": 12,
   "id": "bac96351-bae4-49bf-8370-325956e375f8",
   "metadata": {},
   "outputs": [],
   "source": [
    "#find scores that are fewer than 10"
   ]
  },
  {
   "cell_type": "code",
   "execution_count": 37,
   "id": "0a32b611-9228-4138-9842-90c57d713fc1",
   "metadata": {},
   "outputs": [
    {
     "data": {
      "text/plain": [
       "array([9.  , 4.5 , 6.  , 9.75, 7.5 , 7.  , 9.  , 6.5 , 9.  , 7.  , 8.  ,\n",
       "       9.  , 9.  , 5.  , 6.  , 9.  ])"
      ]
     },
     "execution_count": 37,
     "metadata": {},
     "output_type": "execute_result"
    }
   ],
   "source": [
    "scoreLess10 = grades[grades<10]\n",
    "scoreLess10"
   ]
  },
  {
   "cell_type": "code",
   "execution_count": null,
   "id": "a84922f2-6d96-4da4-8468-14909e9889d1",
   "metadata": {},
   "outputs": [],
   "source": []
  }
 ],
 "metadata": {
  "kernelspec": {
   "display_name": "Python 3 (ipykernel)",
   "language": "python",
   "name": "python3"
  },
  "language_info": {
   "codemirror_mode": {
    "name": "ipython",
    "version": 3
   },
   "file_extension": ".py",
   "mimetype": "text/x-python",
   "name": "python",
   "nbconvert_exporter": "python",
   "pygments_lexer": "ipython3",
   "version": "3.9.0"
  }
 },
 "nbformat": 4,
 "nbformat_minor": 5
}
